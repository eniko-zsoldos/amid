{
 "cells": [
  {
   "cell_type": "code",
   "execution_count": 1,
   "metadata": {},
   "outputs": [],
   "source": [
    "from amid import AMID"
   ]
  },
  {
   "cell_type": "code",
   "execution_count": 28,
   "metadata": {},
   "outputs": [],
   "source": [
    "\n",
    "dst = 'test_data/nvx_parse'\n",
    "src = dst\n",
    "#f = 'MAB_VH_Nx_ZrALD9_143_42-45V_55C_210915.csv'\n",
    "f = 'MAB.210604.001.csv'\n",
    "#label = 'test'\n",
    "label = 'MAB_210604_001'"
   ]
  },
  {
   "cell_type": "code",
   "execution_count": 29,
   "metadata": {},
   "outputs": [
    {
     "name": "stdout",
     "output_type": "stream",
     "text": [
      "['Mass', '(mg):', '0.99']\n",
      "0.00099\n",
      "Working on cell: MAB.210604.001\n",
      "Positive electrode active mass: 0.00099 g\n",
      "Input cell capacity: 0.00027209 Ah\n",
      "Index(['Time', 'Cycle', 'Step', 'Current', 'Potential', 'Capacity',\n",
      "       'Prot.Step'],\n",
      "      dtype='object')\n",
      "Indices being removed to time non-monotonicity: [ 917  952 1254]\n",
      "Indices being removed due to negative voltage: []\n",
      "[  3   5   7   9  11  13  15  17  19  21  23  25  27  29  31  33  35  37\n",
      "  39  41  43  45  47  49  51  53  55  57  59  61  63  65  67  69  71  73\n",
      "  75  77  79  81  83  85  87  89  91  93  95  97  99 101 103 105 107 109\n",
      " 111 113 115 117 119 121 123 125 127 129 131 133 135 137 139 141 143 145]\n",
      "First signature curve step: 4\n",
      "Last signature curve step: 146\n",
      "Specific Capacity achieved in advanced protocol: 174.37 mAh/g\n",
      "Using 0.00017263 Ah to compute rates.\n",
      "Starting voltage: 4.260 V\n",
      "Ending voltage: 3.000\n",
      "Found 72 charge or discharge steps in sig curve sequences.\n",
      "Cutoff voltages: [4.2 4.1 4.  3.9 3.8 3.7 3.6 3. ]\n",
      "Midpoint voltages: [4.23 4.15 4.05 3.95 3.85 3.75 3.65 3.3 ]\n",
      "Voltage intervals widths: [0.06 0.1  0.1  0.1  0.1  0.1  0.1  0.6 ]\n",
      "Voltage interval labels: ['4.26 V - 4.20 V', '4.20 V - 4.10 V', '4.10 V - 4.00 V', '4.00 V - 3.90 V', '3.90 V - 3.80 V', '3.80 V - 3.70 V', '3.70 V - 3.60 V', '3.60 V - 3.00 V']\n",
      "Found 8 voltage intervals.\n",
      "Done parsing signature curves.\n"
     ]
    }
   ],
   "source": [
    "d = AMID(dst, src, f, label)"
   ]
  },
  {
   "cell_type": "code",
   "execution_count": null,
   "metadata": {},
   "outputs": [],
   "source": []
  }
 ],
 "metadata": {
  "kernelspec": {
   "display_name": "Python 3 (Spyder)",
   "language": "python3",
   "name": "python3"
  },
  "language_info": {
   "codemirror_mode": {
    "name": "ipython",
    "version": 3
   },
   "file_extension": ".py",
   "mimetype": "text/x-python",
   "name": "python",
   "nbconvert_exporter": "python",
   "pygments_lexer": "ipython3",
   "version": "3.7.4"
  }
 },
 "nbformat": 4,
 "nbformat_minor": 2
}
